{
 "cells": [
  {
   "cell_type": "markdown",
   "id": "009fa014",
   "metadata": {},
   "source": [
    "#Chapter 2 Exercises "
   ]
  },
  {
   "cell_type": "code",
   "execution_count": 1,
   "id": "dfb70b3d",
   "metadata": {},
   "outputs": [
    {
     "name": "stdout",
     "output_type": "stream",
     "text": [
      "Favorite Color:Green\n"
     ]
    }
   ],
   "source": [
    "#Favorite Color\n",
    "color=input(\"Favorite Color:\")"
   ]
  },
  {
   "cell_type": "code",
   "execution_count": 2,
   "id": "aa7191a4",
   "metadata": {},
   "outputs": [
    {
     "name": "stdout",
     "output_type": "stream",
     "text": [
      "My favorite color is: Green\n"
     ]
    }
   ],
   "source": [
    "print(\"My favorite color is:\",color)"
   ]
  },
  {
   "cell_type": "code",
   "execution_count": 4,
   "id": "8c6770c5",
   "metadata": {},
   "outputs": [
    {
     "name": "stdout",
     "output_type": "stream",
     "text": [
      "name: Trevor\n",
      "adress: 5280 W Howe Rd DeWitt,MI 48820\n",
      "number: 517-899-6288\n",
      "major: Business\n"
     ]
    }
   ],
   "source": [
    "# Filling in my Info \n",
    "name = input(\"name: \")\n",
    "address = input(\"adress: \")\n",
    "telephone_number = input(\"number: \")\n",
    "college_major = input(\"major: \")"
   ]
  },
  {
   "cell_type": "code",
   "execution_count": 7,
   "id": "1ec11f91",
   "metadata": {},
   "outputs": [
    {
     "name": "stdout",
     "output_type": "stream",
     "text": [
      "Trevor: Trevor\n",
      "5280 W Howe Rd DeWitt,MI 48820: 5280 W Howe Rd DeWitt,MI 48820\n",
      "517-899-6288: 517-899-6288\n",
      "Business: Business\n"
     ]
    }
   ],
   "source": [
    "# Printing Information using the inputs\n",
    "print(\"Trevor:\", name)\n",
    "print(\"5280 W Howe Rd DeWitt,MI 48820:\", address)\n",
    "print(\"517-899-6288:\", telephone_number)\n",
    "print(\"Business:\", college_major)"
   ]
  },
  {
   "cell_type": "code",
   "execution_count": 2,
   "id": "00b9a0a6",
   "metadata": {},
   "outputs": [
    {
     "name": "stdout",
     "output_type": "stream",
     "text": [
      "20: 20\n",
      "4: 4\n",
      "2: 2\n",
      "The number of grapevines that will fit in the row: 6\n"
     ]
    }
   ],
   "source": [
    "#Grapevines\n",
    "\n",
    "row_length = float(input(\"20: \"))\n",
    "end_post_space = float(input(\"4: \"))\n",
    "vine_space = float(input(\"2: \"))\n",
    "\n",
    "# Number of grapevines that will fit in the row\n",
    "vines = int((row_length - 2 * end_post_space) / vine_space)\n",
    "\n",
    "# Result\n",
    "print(\"The number of grapevines that will fit in the row:\", vines)\n"
   ]
  }
 ],
 "metadata": {
  "kernelspec": {
   "display_name": "Python 3 (ipykernel)",
   "language": "python",
   "name": "python3"
  },
  "language_info": {
   "codemirror_mode": {
    "name": "ipython",
    "version": 3
   },
   "file_extension": ".py",
   "mimetype": "text/x-python",
   "name": "python",
   "nbconvert_exporter": "python",
   "pygments_lexer": "ipython3",
   "version": "3.11.4"
  }
 },
 "nbformat": 4,
 "nbformat_minor": 5
}
